{
 "cells": [
  {
   "cell_type": "code",
   "execution_count": 94,
   "metadata": {
    "collapsed": true
   },
   "outputs": [],
   "source": [
    "import fastf1 as ff1\n",
    "from fastf1 import plotting\n",
    "from matplotlib import pyplot as plt\n",
    "from matplotlib.pyplot import figure\n",
    "import numpy as np\n",
    "import pandas as pd"
   ]
  },
  {
   "cell_type": "code",
   "execution_count": 95,
   "outputs": [],
   "source": [
    "pd.set_option('display.max_columns', None)"
   ],
   "metadata": {
    "collapsed": false,
    "pycharm": {
     "name": "#%%\n"
    }
   }
  },
  {
   "cell_type": "code",
   "execution_count": 96,
   "outputs": [],
   "source": [
    "# Enable the cache\n",
    "ff1.Cache.enable_cache('cache')"
   ],
   "metadata": {
    "collapsed": false,
    "pycharm": {
     "name": "#%%\n"
    }
   }
  },
  {
   "cell_type": "code",
   "execution_count": 97,
   "outputs": [
    {
     "name": "stderr",
     "output_type": "stream",
     "text": [
      "/Users/kepstein/.pyenv/versions/3.9.4/envs/fastf1/lib/python3.9/site-packages/fastf1/core.py:1220: FutureWarning: `Session.load_laps` is deprecated and will beremoved in a future version.\n",
      "Use `Session.load` instead.\n",
      "  warnings.warn(\"`Session.load_laps` is deprecated and will be\"\n",
      "core           INFO \tLoading data for Bahrain Grand Prix - Qualifying [v2.3.0]\n",
      "api            INFO \tUsing cached data for driver_info\n",
      "api            INFO \tUsing cached data for timing_data\n",
      "api            INFO \tUsing cached data for timing_app_data\n",
      "core           INFO \tProcessing timing data...\n",
      "api            INFO \tUsing cached data for session_status_data\n",
      "api            INFO \tUsing cached data for track_status_data\n",
      "/Users/kepstein/.pyenv/versions/3.9.4/envs/fastf1/lib/python3.9/site-packages/fastf1/core.py:1492: FutureWarning: iteritems is deprecated and will be removed in a future version. Use .items instead.\n",
      "  for key, value in row.iteritems():\n",
      "/Users/kepstein/.pyenv/versions/3.9.4/envs/fastf1/lib/python3.9/site-packages/fastf1/core.py:1492: FutureWarning: iteritems is deprecated and will be removed in a future version. Use .items instead.\n",
      "  for key, value in row.iteritems():\n",
      "/Users/kepstein/.pyenv/versions/3.9.4/envs/fastf1/lib/python3.9/site-packages/fastf1/core.py:1415: FutureWarning: In a future version, object-dtype columns with all-bool values will not be included in reductions with bool_only=True. Explicitly cast to bool dtype instead.\n",
      "  df = pd.concat([df, result], sort=False)\n",
      "/Users/kepstein/.pyenv/versions/3.9.4/envs/fastf1/lib/python3.9/site-packages/fastf1/core.py:1492: FutureWarning: iteritems is deprecated and will be removed in a future version. Use .items instead.\n",
      "  for key, value in row.iteritems():\n",
      "/Users/kepstein/.pyenv/versions/3.9.4/envs/fastf1/lib/python3.9/site-packages/fastf1/core.py:1415: FutureWarning: In a future version, object-dtype columns with all-bool values will not be included in reductions with bool_only=True. Explicitly cast to bool dtype instead.\n",
      "  df = pd.concat([df, result], sort=False)\n",
      "/Users/kepstein/.pyenv/versions/3.9.4/envs/fastf1/lib/python3.9/site-packages/fastf1/core.py:1492: FutureWarning: iteritems is deprecated and will be removed in a future version. Use .items instead.\n",
      "  for key, value in row.iteritems():\n",
      "/Users/kepstein/.pyenv/versions/3.9.4/envs/fastf1/lib/python3.9/site-packages/fastf1/core.py:1415: FutureWarning: In a future version, object-dtype columns with all-bool values will not be included in reductions with bool_only=True. Explicitly cast to bool dtype instead.\n",
      "  df = pd.concat([df, result], sort=False)\n",
      "/Users/kepstein/.pyenv/versions/3.9.4/envs/fastf1/lib/python3.9/site-packages/fastf1/core.py:1415: FutureWarning: In a future version, object-dtype columns with all-bool values will not be included in reductions with bool_only=True. Explicitly cast to bool dtype instead.\n",
      "  df = pd.concat([df, result], sort=False)\n",
      "/Users/kepstein/.pyenv/versions/3.9.4/envs/fastf1/lib/python3.9/site-packages/fastf1/core.py:1492: FutureWarning: iteritems is deprecated and will be removed in a future version. Use .items instead.\n",
      "  for key, value in row.iteritems():\n",
      "/Users/kepstein/.pyenv/versions/3.9.4/envs/fastf1/lib/python3.9/site-packages/fastf1/core.py:1415: FutureWarning: In a future version, object-dtype columns with all-bool values will not be included in reductions with bool_only=True. Explicitly cast to bool dtype instead.\n",
      "  df = pd.concat([df, result], sort=False)\n",
      "/Users/kepstein/.pyenv/versions/3.9.4/envs/fastf1/lib/python3.9/site-packages/fastf1/core.py:1492: FutureWarning: iteritems is deprecated and will be removed in a future version. Use .items instead.\n",
      "  for key, value in row.iteritems():\n",
      "/Users/kepstein/.pyenv/versions/3.9.4/envs/fastf1/lib/python3.9/site-packages/fastf1/core.py:1415: FutureWarning: In a future version, object-dtype columns with all-bool values will not be included in reductions with bool_only=True. Explicitly cast to bool dtype instead.\n",
      "  df = pd.concat([df, result], sort=False)\n",
      "/Users/kepstein/.pyenv/versions/3.9.4/envs/fastf1/lib/python3.9/site-packages/fastf1/core.py:1415: FutureWarning: In a future version, object-dtype columns with all-bool values will not be included in reductions with bool_only=True. Explicitly cast to bool dtype instead.\n",
      "  df = pd.concat([df, result], sort=False)\n",
      "/Users/kepstein/.pyenv/versions/3.9.4/envs/fastf1/lib/python3.9/site-packages/fastf1/core.py:1492: FutureWarning: iteritems is deprecated and will be removed in a future version. Use .items instead.\n",
      "  for key, value in row.iteritems():\n",
      "/Users/kepstein/.pyenv/versions/3.9.4/envs/fastf1/lib/python3.9/site-packages/fastf1/core.py:1415: FutureWarning: In a future version, object-dtype columns with all-bool values will not be included in reductions with bool_only=True. Explicitly cast to bool dtype instead.\n",
      "  df = pd.concat([df, result], sort=False)\n",
      "/Users/kepstein/.pyenv/versions/3.9.4/envs/fastf1/lib/python3.9/site-packages/fastf1/core.py:1415: FutureWarning: In a future version, object-dtype columns with all-bool values will not be included in reductions with bool_only=True. Explicitly cast to bool dtype instead.\n",
      "  df = pd.concat([df, result], sort=False)\n",
      "/Users/kepstein/.pyenv/versions/3.9.4/envs/fastf1/lib/python3.9/site-packages/fastf1/core.py:1415: FutureWarning: In a future version, object-dtype columns with all-bool values will not be included in reductions with bool_only=True. Explicitly cast to bool dtype instead.\n",
      "  df = pd.concat([df, result], sort=False)\n",
      "/Users/kepstein/.pyenv/versions/3.9.4/envs/fastf1/lib/python3.9/site-packages/fastf1/core.py:1492: FutureWarning: iteritems is deprecated and will be removed in a future version. Use .items instead.\n",
      "  for key, value in row.iteritems():\n",
      "/Users/kepstein/.pyenv/versions/3.9.4/envs/fastf1/lib/python3.9/site-packages/fastf1/core.py:1415: FutureWarning: In a future version, object-dtype columns with all-bool values will not be included in reductions with bool_only=True. Explicitly cast to bool dtype instead.\n",
      "  df = pd.concat([df, result], sort=False)\n",
      "/Users/kepstein/.pyenv/versions/3.9.4/envs/fastf1/lib/python3.9/site-packages/fastf1/core.py:1492: FutureWarning: iteritems is deprecated and will be removed in a future version. Use .items instead.\n",
      "  for key, value in row.iteritems():\n",
      "/Users/kepstein/.pyenv/versions/3.9.4/envs/fastf1/lib/python3.9/site-packages/fastf1/core.py:1415: FutureWarning: In a future version, object-dtype columns with all-bool values will not be included in reductions with bool_only=True. Explicitly cast to bool dtype instead.\n",
      "  df = pd.concat([df, result], sort=False)\n",
      "/Users/kepstein/.pyenv/versions/3.9.4/envs/fastf1/lib/python3.9/site-packages/fastf1/core.py:1492: FutureWarning: iteritems is deprecated and will be removed in a future version. Use .items instead.\n",
      "  for key, value in row.iteritems():\n",
      "/Users/kepstein/.pyenv/versions/3.9.4/envs/fastf1/lib/python3.9/site-packages/fastf1/core.py:1415: FutureWarning: In a future version, object-dtype columns with all-bool values will not be included in reductions with bool_only=True. Explicitly cast to bool dtype instead.\n",
      "  df = pd.concat([df, result], sort=False)\n",
      "/Users/kepstein/.pyenv/versions/3.9.4/envs/fastf1/lib/python3.9/site-packages/fastf1/core.py:1415: FutureWarning: In a future version, object-dtype columns with all-bool values will not be included in reductions with bool_only=True. Explicitly cast to bool dtype instead.\n",
      "  df = pd.concat([df, result], sort=False)\n",
      "/Users/kepstein/.pyenv/versions/3.9.4/envs/fastf1/lib/python3.9/site-packages/fastf1/core.py:1415: FutureWarning: In a future version, object-dtype columns with all-bool values will not be included in reductions with bool_only=True. Explicitly cast to bool dtype instead.\n",
      "  df = pd.concat([df, result], sort=False)\n",
      "/Users/kepstein/.pyenv/versions/3.9.4/envs/fastf1/lib/python3.9/site-packages/fastf1/core.py:1415: FutureWarning: In a future version, object-dtype columns with all-bool values will not be included in reductions with bool_only=True. Explicitly cast to bool dtype instead.\n",
      "  df = pd.concat([df, result], sort=False)\n",
      "/Users/kepstein/.pyenv/versions/3.9.4/envs/fastf1/lib/python3.9/site-packages/fastf1/core.py:1415: FutureWarning: In a future version, object-dtype columns with all-bool values will not be included in reductions with bool_only=True. Explicitly cast to bool dtype instead.\n",
      "  df = pd.concat([df, result], sort=False)\n",
      "/Users/kepstein/.pyenv/versions/3.9.4/envs/fastf1/lib/python3.9/site-packages/fastf1/core.py:1415: FutureWarning: In a future version, object-dtype columns with all-bool values will not be included in reductions with bool_only=True. Explicitly cast to bool dtype instead.\n",
      "  df = pd.concat([df, result], sort=False)\n",
      "/Users/kepstein/.pyenv/versions/3.9.4/envs/fastf1/lib/python3.9/site-packages/fastf1/core.py:1415: FutureWarning: In a future version, object-dtype columns with all-bool values will not be included in reductions with bool_only=True. Explicitly cast to bool dtype instead.\n",
      "  df = pd.concat([df, result], sort=False)\n",
      "api            INFO \tUsing cached data for car_data\n",
      "api            INFO \tUsing cached data for position_data\n",
      "api            INFO \tUsing cached data for weather_data\n",
      "api            INFO \tUsing cached data for race_control_messages\n",
      "core           INFO \tFinished loading data for 20 drivers: ['1', '11', '16', '55', '14', '63', '44', '18', '31', '27', '4', '77', '24', '22', '23', '2', '20', '81', '21', '10']\n"
     ]
    }
   ],
   "source": [
    "year = 2023\n",
    "circuit = 'Bahrain'\n",
    "\n",
    "# Load the session data\n",
    "race = ff1.get_session(year, circuit, 'Q')\n",
    "laps = race.load_laps(with_telemetry=True)"
   ],
   "metadata": {
    "collapsed": false,
    "pycharm": {
     "name": "#%%\n"
    }
   }
  },
  {
   "cell_type": "code",
   "execution_count": 98,
   "outputs": [],
   "source": [
    "laps['LapTimeSeconds'] = laps['LapTime'].dt.total_seconds()\n",
    "laps['Sector1Seconds'] = laps['Sector1Time'].dt.total_seconds()\n",
    "laps['Sector2Seconds'] = laps['Sector2Time'].dt.total_seconds()\n",
    "laps['Sector3Seconds'] = laps['Sector3Time'].dt.total_seconds()"
   ],
   "metadata": {
    "collapsed": false,
    "pycharm": {
     "name": "#%%\n"
    }
   }
  },
  {
   "cell_type": "code",
   "execution_count": 99,
   "outputs": [],
   "source": [
    "# To get accurate laps only, we exclude in- and outlaps\n",
    "laps = laps.loc[(laps['PitOutTime'].isnull() & laps['PitInTime'].isnull())]"
   ],
   "metadata": {
    "collapsed": false,
    "pycharm": {
     "name": "#%%\n"
    }
   }
  },
  {
   "cell_type": "code",
   "execution_count": 100,
   "outputs": [],
   "source": [
    "filter = laps.Driver == \"VER\"\n",
    "single_driver_laps = laps[filter]"
   ],
   "metadata": {
    "collapsed": false,
    "pycharm": {
     "name": "#%%\n"
    }
   }
  },
  {
   "cell_type": "code",
   "execution_count": 101,
   "outputs": [
    {
     "data": {
      "text/plain": "                      Time DriverNumber                LapTime  LapNumber  \\\n2   0 days 00:31:03.689000            1 0 days 00:01:31.295000          3   \n7   0 days 00:55:15.214000            1 0 days 00:01:30.503000          8   \n10  0 days 01:15:51.213000            1 0 days 00:01:29.897000         11   \n13  0 days 01:23:54.472000            1 0 days 00:01:29.708000         14   \n17  0 days 00:32:06.785000           11 0 days 00:01:31.479000          3   \n..                     ...          ...                    ...        ...   \n240 0 days 00:18:39.869000           21 0 days 00:01:32.849000          2   \n243 0 days 00:31:26.629000           21 0 days 00:01:32.121000          5   \n246 0 days 00:40:24.545000           21 0 days 00:01:32.279000          8   \n249 0 days 00:32:13.869000           10 0 days 00:01:32.181000          2   \n252 0 days 00:40:47.282000           10 0 days 00:01:31.818000          5   \n\n    PitOutTime PitInTime            Sector1Time            Sector2Time  \\\n2          NaT       NaT 0 days 00:00:29.152000 0 days 00:00:39.195000   \n7          NaT       NaT 0 days 00:00:28.925000 0 days 00:00:38.915000   \n10         NaT       NaT 0 days 00:00:28.722000 0 days 00:00:38.645000   \n13         NaT       NaT 0 days 00:00:28.736000 0 days 00:00:38.514000   \n17         NaT       NaT 0 days 00:00:29.218000 0 days 00:00:39.397000   \n..         ...       ...                    ...                    ...   \n240        NaT       NaT 0 days 00:00:29.558000 0 days 00:00:40.170000   \n243        NaT       NaT 0 days 00:00:29.382000 0 days 00:00:39.634000   \n246        NaT       NaT 0 days 00:00:29.514000 0 days 00:00:39.699000   \n249        NaT       NaT 0 days 00:00:29.330000 0 days 00:00:39.764000   \n252        NaT       NaT 0 days 00:00:29.247000 0 days 00:00:39.412000   \n\n               Sector3Time     Sector1SessionTime     Sector2SessionTime  \\\n2   0 days 00:00:22.948000 0 days 00:30:01.546000 0 days 00:30:40.741000   \n7   0 days 00:00:22.663000 0 days 00:54:13.636000 0 days 00:54:52.551000   \n10  0 days 00:00:22.530000 0 days 01:14:50.038000 0 days 01:15:28.683000   \n13  0 days 00:00:22.458000 0 days 01:22:53.500000 0 days 01:23:32.014000   \n17  0 days 00:00:22.864000 0 days 00:31:04.524000 0 days 00:31:43.921000   \n..                     ...                    ...                    ...   \n240 0 days 00:00:23.121000 0 days 00:17:36.578000 0 days 00:18:16.748000   \n243 0 days 00:00:23.105000 0 days 00:30:23.890000 0 days 00:31:03.524000   \n246 0 days 00:00:23.066000 0 days 00:39:21.780000 0 days 00:40:01.479000   \n249 0 days 00:00:23.087000 0 days 00:31:11.018000 0 days 00:31:50.782000   \n252 0 days 00:00:23.159000 0 days 00:39:44.711000 0 days 00:40:24.123000   \n\n        Sector3SessionTime  SpeedI1  SpeedI2  SpeedFL  SpeedST  \\\n2   0 days 00:31:03.689000    240.0    270.0    288.0    322.0   \n7   0 days 00:55:15.214000    240.0    270.0    288.0    323.0   \n10  0 days 01:15:51.213000    242.0    269.0    288.0    321.0   \n13  0 days 01:23:54.472000    241.0    271.0    288.0    321.0   \n17  0 days 00:32:06.785000    240.0    270.0    288.0    324.0   \n..                     ...      ...      ...      ...      ...   \n240 0 days 00:18:39.869000    239.0    269.0    285.0    313.0   \n243 0 days 00:31:26.629000    240.0    270.0    285.0    315.0   \n246 0 days 00:40:24.545000    239.0    270.0    285.0    316.0   \n249 0 days 00:32:13.869000    241.0    269.0    286.0    324.0   \n252 0 days 00:40:47.282000    241.0    270.0    285.0    322.0   \n\n     IsPersonalBest Compound  TyreLife FreshTyre  Stint  \\\n2             False     SOFT       3.0     False      2   \n7             False     SOFT       2.0      True      4   \n10            False     SOFT       2.0      True      5   \n13             True     SOFT       2.0     False      6   \n17            False     SOFT       3.0     False      2   \n..              ...      ...       ...       ...    ...   \n240           False     SOFT       2.0      True      1   \n243            True     SOFT       2.0      True      2   \n246           False     SOFT       2.0      True      3   \n249            True     SOFT       2.0      True      1   \n252           False     SOFT       2.0      True      2   \n\n              LapStartTime             Team Driver TrackStatus IsAccurate  \\\n2   0 days 00:29:32.394000  Red Bull Racing    VER           1       True   \n7   0 days 00:53:44.711000  Red Bull Racing    VER           1       True   \n10  0 days 01:14:21.316000  Red Bull Racing    VER           1       True   \n13  0 days 01:22:24.764000  Red Bull Racing    VER           1       True   \n17  0 days 00:30:35.306000  Red Bull Racing    PER           1       True   \n..                     ...              ...    ...         ...        ...   \n240 0 days 00:17:07.020000       AlphaTauri    DEV           1       True   \n243 0 days 00:29:54.508000       AlphaTauri    DEV           1       True   \n246 0 days 00:38:52.266000       AlphaTauri    DEV           1       True   \n249 0 days 00:30:41.688000           Alpine    GAS           1       True   \n252 0 days 00:39:15.464000           Alpine    GAS           1       True   \n\n               LapStartDate  LapTimeSeconds  Sector1Seconds  Sector2Seconds  \\\n2   2023-03-04 15:14:33.391          91.295          29.152          39.195   \n7   2023-03-04 15:38:45.708          90.503          28.925          38.915   \n10  2023-03-04 15:59:22.313          89.897          28.722          38.645   \n13  2023-03-04 16:07:25.761          89.708          28.736          38.514   \n17  2023-03-04 15:15:36.303          91.479          29.218          39.397   \n..                      ...             ...             ...             ...   \n240 2023-03-04 15:02:08.017          92.849          29.558          40.170   \n243 2023-03-04 15:14:55.505          92.121          29.382          39.634   \n246 2023-03-04 15:23:53.263          92.279          29.514          39.699   \n249 2023-03-04 15:15:42.685          92.181          29.330          39.764   \n252 2023-03-04 15:24:16.461          91.818          29.247          39.412   \n\n     Sector3Seconds  \n2            22.948  \n7            22.663  \n10           22.530  \n13           22.458  \n17           22.864  \n..              ...  \n240          23.121  \n243          23.105  \n246          23.066  \n249          23.087  \n252          23.159  \n\n[80 rows x 31 columns]",
      "text/html": "<div>\n<style scoped>\n    .dataframe tbody tr th:only-of-type {\n        vertical-align: middle;\n    }\n\n    .dataframe tbody tr th {\n        vertical-align: top;\n    }\n\n    .dataframe thead th {\n        text-align: right;\n    }\n</style>\n<table border=\"1\" class=\"dataframe\">\n  <thead>\n    <tr style=\"text-align: right;\">\n      <th></th>\n      <th>Time</th>\n      <th>DriverNumber</th>\n      <th>LapTime</th>\n      <th>LapNumber</th>\n      <th>PitOutTime</th>\n      <th>PitInTime</th>\n      <th>Sector1Time</th>\n      <th>Sector2Time</th>\n      <th>Sector3Time</th>\n      <th>Sector1SessionTime</th>\n      <th>Sector2SessionTime</th>\n      <th>Sector3SessionTime</th>\n      <th>SpeedI1</th>\n      <th>SpeedI2</th>\n      <th>SpeedFL</th>\n      <th>SpeedST</th>\n      <th>IsPersonalBest</th>\n      <th>Compound</th>\n      <th>TyreLife</th>\n      <th>FreshTyre</th>\n      <th>Stint</th>\n      <th>LapStartTime</th>\n      <th>Team</th>\n      <th>Driver</th>\n      <th>TrackStatus</th>\n      <th>IsAccurate</th>\n      <th>LapStartDate</th>\n      <th>LapTimeSeconds</th>\n      <th>Sector1Seconds</th>\n      <th>Sector2Seconds</th>\n      <th>Sector3Seconds</th>\n    </tr>\n  </thead>\n  <tbody>\n    <tr>\n      <th>2</th>\n      <td>0 days 00:31:03.689000</td>\n      <td>1</td>\n      <td>0 days 00:01:31.295000</td>\n      <td>3</td>\n      <td>NaT</td>\n      <td>NaT</td>\n      <td>0 days 00:00:29.152000</td>\n      <td>0 days 00:00:39.195000</td>\n      <td>0 days 00:00:22.948000</td>\n      <td>0 days 00:30:01.546000</td>\n      <td>0 days 00:30:40.741000</td>\n      <td>0 days 00:31:03.689000</td>\n      <td>240.0</td>\n      <td>270.0</td>\n      <td>288.0</td>\n      <td>322.0</td>\n      <td>False</td>\n      <td>SOFT</td>\n      <td>3.0</td>\n      <td>False</td>\n      <td>2</td>\n      <td>0 days 00:29:32.394000</td>\n      <td>Red Bull Racing</td>\n      <td>VER</td>\n      <td>1</td>\n      <td>True</td>\n      <td>2023-03-04 15:14:33.391</td>\n      <td>91.295</td>\n      <td>29.152</td>\n      <td>39.195</td>\n      <td>22.948</td>\n    </tr>\n    <tr>\n      <th>7</th>\n      <td>0 days 00:55:15.214000</td>\n      <td>1</td>\n      <td>0 days 00:01:30.503000</td>\n      <td>8</td>\n      <td>NaT</td>\n      <td>NaT</td>\n      <td>0 days 00:00:28.925000</td>\n      <td>0 days 00:00:38.915000</td>\n      <td>0 days 00:00:22.663000</td>\n      <td>0 days 00:54:13.636000</td>\n      <td>0 days 00:54:52.551000</td>\n      <td>0 days 00:55:15.214000</td>\n      <td>240.0</td>\n      <td>270.0</td>\n      <td>288.0</td>\n      <td>323.0</td>\n      <td>False</td>\n      <td>SOFT</td>\n      <td>2.0</td>\n      <td>True</td>\n      <td>4</td>\n      <td>0 days 00:53:44.711000</td>\n      <td>Red Bull Racing</td>\n      <td>VER</td>\n      <td>1</td>\n      <td>True</td>\n      <td>2023-03-04 15:38:45.708</td>\n      <td>90.503</td>\n      <td>28.925</td>\n      <td>38.915</td>\n      <td>22.663</td>\n    </tr>\n    <tr>\n      <th>10</th>\n      <td>0 days 01:15:51.213000</td>\n      <td>1</td>\n      <td>0 days 00:01:29.897000</td>\n      <td>11</td>\n      <td>NaT</td>\n      <td>NaT</td>\n      <td>0 days 00:00:28.722000</td>\n      <td>0 days 00:00:38.645000</td>\n      <td>0 days 00:00:22.530000</td>\n      <td>0 days 01:14:50.038000</td>\n      <td>0 days 01:15:28.683000</td>\n      <td>0 days 01:15:51.213000</td>\n      <td>242.0</td>\n      <td>269.0</td>\n      <td>288.0</td>\n      <td>321.0</td>\n      <td>False</td>\n      <td>SOFT</td>\n      <td>2.0</td>\n      <td>True</td>\n      <td>5</td>\n      <td>0 days 01:14:21.316000</td>\n      <td>Red Bull Racing</td>\n      <td>VER</td>\n      <td>1</td>\n      <td>True</td>\n      <td>2023-03-04 15:59:22.313</td>\n      <td>89.897</td>\n      <td>28.722</td>\n      <td>38.645</td>\n      <td>22.530</td>\n    </tr>\n    <tr>\n      <th>13</th>\n      <td>0 days 01:23:54.472000</td>\n      <td>1</td>\n      <td>0 days 00:01:29.708000</td>\n      <td>14</td>\n      <td>NaT</td>\n      <td>NaT</td>\n      <td>0 days 00:00:28.736000</td>\n      <td>0 days 00:00:38.514000</td>\n      <td>0 days 00:00:22.458000</td>\n      <td>0 days 01:22:53.500000</td>\n      <td>0 days 01:23:32.014000</td>\n      <td>0 days 01:23:54.472000</td>\n      <td>241.0</td>\n      <td>271.0</td>\n      <td>288.0</td>\n      <td>321.0</td>\n      <td>True</td>\n      <td>SOFT</td>\n      <td>2.0</td>\n      <td>False</td>\n      <td>6</td>\n      <td>0 days 01:22:24.764000</td>\n      <td>Red Bull Racing</td>\n      <td>VER</td>\n      <td>1</td>\n      <td>True</td>\n      <td>2023-03-04 16:07:25.761</td>\n      <td>89.708</td>\n      <td>28.736</td>\n      <td>38.514</td>\n      <td>22.458</td>\n    </tr>\n    <tr>\n      <th>17</th>\n      <td>0 days 00:32:06.785000</td>\n      <td>11</td>\n      <td>0 days 00:01:31.479000</td>\n      <td>3</td>\n      <td>NaT</td>\n      <td>NaT</td>\n      <td>0 days 00:00:29.218000</td>\n      <td>0 days 00:00:39.397000</td>\n      <td>0 days 00:00:22.864000</td>\n      <td>0 days 00:31:04.524000</td>\n      <td>0 days 00:31:43.921000</td>\n      <td>0 days 00:32:06.785000</td>\n      <td>240.0</td>\n      <td>270.0</td>\n      <td>288.0</td>\n      <td>324.0</td>\n      <td>False</td>\n      <td>SOFT</td>\n      <td>3.0</td>\n      <td>False</td>\n      <td>2</td>\n      <td>0 days 00:30:35.306000</td>\n      <td>Red Bull Racing</td>\n      <td>PER</td>\n      <td>1</td>\n      <td>True</td>\n      <td>2023-03-04 15:15:36.303</td>\n      <td>91.479</td>\n      <td>29.218</td>\n      <td>39.397</td>\n      <td>22.864</td>\n    </tr>\n    <tr>\n      <th>...</th>\n      <td>...</td>\n      <td>...</td>\n      <td>...</td>\n      <td>...</td>\n      <td>...</td>\n      <td>...</td>\n      <td>...</td>\n      <td>...</td>\n      <td>...</td>\n      <td>...</td>\n      <td>...</td>\n      <td>...</td>\n      <td>...</td>\n      <td>...</td>\n      <td>...</td>\n      <td>...</td>\n      <td>...</td>\n      <td>...</td>\n      <td>...</td>\n      <td>...</td>\n      <td>...</td>\n      <td>...</td>\n      <td>...</td>\n      <td>...</td>\n      <td>...</td>\n      <td>...</td>\n      <td>...</td>\n      <td>...</td>\n      <td>...</td>\n      <td>...</td>\n      <td>...</td>\n    </tr>\n    <tr>\n      <th>240</th>\n      <td>0 days 00:18:39.869000</td>\n      <td>21</td>\n      <td>0 days 00:01:32.849000</td>\n      <td>2</td>\n      <td>NaT</td>\n      <td>NaT</td>\n      <td>0 days 00:00:29.558000</td>\n      <td>0 days 00:00:40.170000</td>\n      <td>0 days 00:00:23.121000</td>\n      <td>0 days 00:17:36.578000</td>\n      <td>0 days 00:18:16.748000</td>\n      <td>0 days 00:18:39.869000</td>\n      <td>239.0</td>\n      <td>269.0</td>\n      <td>285.0</td>\n      <td>313.0</td>\n      <td>False</td>\n      <td>SOFT</td>\n      <td>2.0</td>\n      <td>True</td>\n      <td>1</td>\n      <td>0 days 00:17:07.020000</td>\n      <td>AlphaTauri</td>\n      <td>DEV</td>\n      <td>1</td>\n      <td>True</td>\n      <td>2023-03-04 15:02:08.017</td>\n      <td>92.849</td>\n      <td>29.558</td>\n      <td>40.170</td>\n      <td>23.121</td>\n    </tr>\n    <tr>\n      <th>243</th>\n      <td>0 days 00:31:26.629000</td>\n      <td>21</td>\n      <td>0 days 00:01:32.121000</td>\n      <td>5</td>\n      <td>NaT</td>\n      <td>NaT</td>\n      <td>0 days 00:00:29.382000</td>\n      <td>0 days 00:00:39.634000</td>\n      <td>0 days 00:00:23.105000</td>\n      <td>0 days 00:30:23.890000</td>\n      <td>0 days 00:31:03.524000</td>\n      <td>0 days 00:31:26.629000</td>\n      <td>240.0</td>\n      <td>270.0</td>\n      <td>285.0</td>\n      <td>315.0</td>\n      <td>True</td>\n      <td>SOFT</td>\n      <td>2.0</td>\n      <td>True</td>\n      <td>2</td>\n      <td>0 days 00:29:54.508000</td>\n      <td>AlphaTauri</td>\n      <td>DEV</td>\n      <td>1</td>\n      <td>True</td>\n      <td>2023-03-04 15:14:55.505</td>\n      <td>92.121</td>\n      <td>29.382</td>\n      <td>39.634</td>\n      <td>23.105</td>\n    </tr>\n    <tr>\n      <th>246</th>\n      <td>0 days 00:40:24.545000</td>\n      <td>21</td>\n      <td>0 days 00:01:32.279000</td>\n      <td>8</td>\n      <td>NaT</td>\n      <td>NaT</td>\n      <td>0 days 00:00:29.514000</td>\n      <td>0 days 00:00:39.699000</td>\n      <td>0 days 00:00:23.066000</td>\n      <td>0 days 00:39:21.780000</td>\n      <td>0 days 00:40:01.479000</td>\n      <td>0 days 00:40:24.545000</td>\n      <td>239.0</td>\n      <td>270.0</td>\n      <td>285.0</td>\n      <td>316.0</td>\n      <td>False</td>\n      <td>SOFT</td>\n      <td>2.0</td>\n      <td>True</td>\n      <td>3</td>\n      <td>0 days 00:38:52.266000</td>\n      <td>AlphaTauri</td>\n      <td>DEV</td>\n      <td>1</td>\n      <td>True</td>\n      <td>2023-03-04 15:23:53.263</td>\n      <td>92.279</td>\n      <td>29.514</td>\n      <td>39.699</td>\n      <td>23.066</td>\n    </tr>\n    <tr>\n      <th>249</th>\n      <td>0 days 00:32:13.869000</td>\n      <td>10</td>\n      <td>0 days 00:01:32.181000</td>\n      <td>2</td>\n      <td>NaT</td>\n      <td>NaT</td>\n      <td>0 days 00:00:29.330000</td>\n      <td>0 days 00:00:39.764000</td>\n      <td>0 days 00:00:23.087000</td>\n      <td>0 days 00:31:11.018000</td>\n      <td>0 days 00:31:50.782000</td>\n      <td>0 days 00:32:13.869000</td>\n      <td>241.0</td>\n      <td>269.0</td>\n      <td>286.0</td>\n      <td>324.0</td>\n      <td>True</td>\n      <td>SOFT</td>\n      <td>2.0</td>\n      <td>True</td>\n      <td>1</td>\n      <td>0 days 00:30:41.688000</td>\n      <td>Alpine</td>\n      <td>GAS</td>\n      <td>1</td>\n      <td>True</td>\n      <td>2023-03-04 15:15:42.685</td>\n      <td>92.181</td>\n      <td>29.330</td>\n      <td>39.764</td>\n      <td>23.087</td>\n    </tr>\n    <tr>\n      <th>252</th>\n      <td>0 days 00:40:47.282000</td>\n      <td>10</td>\n      <td>0 days 00:01:31.818000</td>\n      <td>5</td>\n      <td>NaT</td>\n      <td>NaT</td>\n      <td>0 days 00:00:29.247000</td>\n      <td>0 days 00:00:39.412000</td>\n      <td>0 days 00:00:23.159000</td>\n      <td>0 days 00:39:44.711000</td>\n      <td>0 days 00:40:24.123000</td>\n      <td>0 days 00:40:47.282000</td>\n      <td>241.0</td>\n      <td>270.0</td>\n      <td>285.0</td>\n      <td>322.0</td>\n      <td>False</td>\n      <td>SOFT</td>\n      <td>2.0</td>\n      <td>True</td>\n      <td>2</td>\n      <td>0 days 00:39:15.464000</td>\n      <td>Alpine</td>\n      <td>GAS</td>\n      <td>1</td>\n      <td>True</td>\n      <td>2023-03-04 15:24:16.461</td>\n      <td>91.818</td>\n      <td>29.247</td>\n      <td>39.412</td>\n      <td>23.159</td>\n    </tr>\n  </tbody>\n</table>\n<p>80 rows × 31 columns</p>\n</div>"
     },
     "execution_count": 101,
     "metadata": {},
     "output_type": "execute_result"
    }
   ],
   "source": [
    "laps"
   ],
   "metadata": {
    "collapsed": false,
    "pycharm": {
     "name": "#%%\n"
    }
   }
  },
  {
   "cell_type": "code",
   "execution_count": 102,
   "outputs": [],
   "source": [
    "sector1_best = single_driver_laps['Sector1Seconds'].min()\n",
    "sector2_best = single_driver_laps['Sector2Seconds'].min()\n",
    "sector3_best = single_driver_laps['Sector3Seconds'].min()\n",
    "best_lap = single_driver_laps['LapTimeSeconds'].min()\n",
    "theoretical_best_lap = sector1_best + sector2_best + sector3_best"
   ],
   "metadata": {
    "collapsed": false,
    "pycharm": {
     "name": "#%%\n"
    }
   }
  },
  {
   "cell_type": "code",
   "execution_count": 103,
   "outputs": [
    {
     "name": "stdout",
     "output_type": "stream",
     "text": [
      "Actual Best lap time: 89.708\n",
      "Theoretical best lap time: 89.694\n"
     ]
    }
   ],
   "source": [
    "print(\"Actual Best lap time: {}\".format(best_lap))\n",
    "print(\"Theoretical best lap time: {}\".format(theoretical_best_lap))"
   ],
   "metadata": {
    "collapsed": false,
    "pycharm": {
     "name": "#%%\n"
    }
   }
  },
  {
   "cell_type": "code",
   "execution_count": 104,
   "outputs": [
    {
     "name": "stdout",
     "output_type": "stream",
     "text": [
      "Delta to theoretical best 0.013999999999995794\n"
     ]
    }
   ],
   "source": [
    "# best_theoretical_delta = theoretical_best_lap - best_lap\n",
    "best_theoretical_delta =  best_lap - theoretical_best_lap\n",
    "print(\"Delta to theoretical best {}\".format(best_theoretical_delta))"
   ],
   "metadata": {
    "collapsed": false,
    "pycharm": {
     "name": "#%%\n"
    }
   }
  },
  {
   "cell_type": "code",
   "execution_count": 104,
   "outputs": [],
   "source": [],
   "metadata": {
    "collapsed": false,
    "pycharm": {
     "name": "#%%\n"
    }
   }
  }
 ],
 "metadata": {
  "kernelspec": {
   "display_name": "Python 3",
   "language": "python",
   "name": "python3"
  },
  "language_info": {
   "codemirror_mode": {
    "name": "ipython",
    "version": 2
   },
   "file_extension": ".py",
   "mimetype": "text/x-python",
   "name": "python",
   "nbconvert_exporter": "python",
   "pygments_lexer": "ipython2",
   "version": "2.7.6"
  }
 },
 "nbformat": 4,
 "nbformat_minor": 0
}